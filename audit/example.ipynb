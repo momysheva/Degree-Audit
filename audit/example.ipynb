{
 "cells": [
  {
   "cell_type": "code",
   "execution_count": 2,
   "metadata": {},
   "outputs": [
    {
     "name": "stdout",
     "output_type": "stream",
     "text": [
      "['162', '162', '212', '212']\n"
     ]
    }
   ],
   "source": [
    "str='212+212/162/162-'\n",
    "str2='xxx-'\n",
    "str3='3xx/4xx-399,392'\n",
    "\n",
    "req, anti=str.split('-')\n",
    "anti=anti.split(',')\n",
    "new_req=req.split('/')\n",
    "word_with_plus = next((word for word in new_req if \"+\" in word), None)\n",
    "if word_with_plus:\n",
    "                plus_course = word_with_plus.split('+')\n",
    "                new_req.remove(word_with_plus)\n",
    "                new_req.extend(plus_course)\n",
    "\n",
    "print(new_req)"
   ]
  },
  {
   "cell_type": "code",
   "execution_count": 5,
   "metadata": {},
   "outputs": [
    {
     "name": "stdout",
     "output_type": "stream",
     "text": [
      "[('MATH 407/411/440/441/446/449/477/499', '', '6', 'C-', '', ''), ('MATH 4xx', '', '6', 'C-', '', ''), ('MATH 3xx/4xx', '', '6', 'C-', '', ''), ('MATH 3xx/4xx', '', '6', 'C-', '', '')]\n"
     ]
    }
   ],
   "source": [
    "req=[('MATH 407/411/440/441/446/449/477/499', '', '6', 'C-', '', ''), ('MATH 4xx', '', '6', 'C-', '', ''), ('MATH 3xx/4xx', '', '6', 'C-', '', ''), ('MATH 3xx/4xx', '', '6', 'C-', '', ''), ('General Elective', '', '6/8', 'D', '', '')]\n",
    "course_req_open = [item for item in req if item[0] != \"General Elective\" and item[0] != \"Open xxx\"]\n",
    "\n",
    "print(course_req_open)\n"
   ]
  },
  {
   "cell_type": "code",
   "execution_count": 4,
   "metadata": {},
   "outputs": [
    {
     "name": "stdout",
     "output_type": "stream",
     "text": [
      "['250-274', '350-374', '450-474']\n",
      "['250', '274']\n",
      "['350', '374']\n",
      "['450', '474']\n"
     ]
    }
   ],
   "source": [
    "str='ANT 250-274/350-374/450-474'\n",
    "c=245\n",
    "req=str.split('|')\n",
    "found=next((s for s in req if 'ANT' in s), None)\n",
    "if found:\n",
    "    codes=found.split(' ')[1].split('/')\n",
    "print(codes)\n",
    "for code in codes:\n",
    "    if '-' in code:\n",
    "        print(code.split('-'))\n",
    "        if int(c[1:])>=int(code.split('-')[0][1:]) and int(c[1:])<=int(code.split('-')[1][1:]):\n",
    "            print('yes')"
   ]
  },
  {
   "cell_type": "code",
   "execution_count": 3,
   "metadata": {},
   "outputs": [
    {
     "name": "stdout",
     "output_type": "stream",
     "text": [
      "yes\n",
      "[('BIOL 345', '', '6/8', 'C-', 'BIOL 399 Biology Internship/BIOL 392 Directed Study in Biology', '')]\n"
     ]
    }
   ],
   "source": [
    "course_req_open=[('BIOL 3xx/4xx','','6/8','C-','BIOL 399 Biology Internship/BIOL 392 Directed Study in Biology',''),('BIOL 345','','6/8','C-','BIOL 399 Biology Internship/BIOL 392 Directed Study in Biology','')]\n",
    "req_course='18|BIOL 3xx/4xx'\n",
    "found=next((item for item in course_req_open if item[0] == req_course.split('|')[1]), None)\n",
    "if found:\n",
    "    print('yes')\n",
    "    course_req_open.remove(found)\n",
    "print(course_req_open)"
   ]
  },
  {
   "cell_type": "code",
   "execution_count": 1,
   "metadata": {},
   "outputs": [
    {
     "name": "stdout",
     "output_type": "stream",
     "text": [
      "['273']\n"
     ]
    }
   ],
   "source": [
    "course='WLL 273|HST 273|LING 273/274'\n",
    "target='HST'\n",
    "req=course.split('|')\n",
    "found=next((s for s in req if target in s), None)\n",
    "if found:\n",
    "    codes=found.split(' ')[1].split('/')\n",
    "print(codes)\n",
    "for code in codes:\n",
    "                if code=='xxx':\n",
    "                        print('xxx')\n",
    "                       \n",
    "                elif code.endswith('xx'):\n",
    "                    if target[0]+' '+target[1] not in course[4]:\n",
    "                        if code[0]==target[1][0]:\n",
    "                            print\n",
    "                        else:\n",
    "                            continue\n",
    "                elif code==target[1]:\n",
    "                    if target[3] in course[2]:\n",
    "                        if (target[4] in grades and (grades[target[4]] >= grades.get(course[3], 0))) or target[4]=='in progress' or target[4]=='P':\n",
    "                            courses_passed.append(course)\n",
    "                            return (True, 'open',course)\n",
    "                        else:\n",
    "                            return (False, 'open',course)\n",
    "                else:\n",
    "                    continue"
   ]
  },
  {
   "cell_type": "code",
   "execution_count": 6,
   "metadata": {},
   "outputs": [
    {
     "name": "stdout",
     "output_type": "stream",
     "text": [
      "[[-1  1  1 -1]\n",
      " [-1 -1 -1  1]\n",
      " [-1  1 -1 -1]]\n"
     ]
    }
   ],
   "source": [
    "import numpy as np\n",
    "number_transmitters=int(input('Please enter the number of transmitters (2,3 or 4): '))\n",
    "# chip_seq=[]\n",
    "if number_transmitters not in [2,3,4]:\n",
    "    print('Invalid number of transmitters')\n",
    "else:\n",
    "    chip_length = 4 if number_transmitters <= 3 else 8\n",
    "    chip_seq=np.random.choice([1, -1], size=(number_transmitters, chip_length))\n",
    "    print(chip_seq)"
   ]
  },
  {
   "cell_type": "code",
   "execution_count": 10,
   "metadata": {},
   "outputs": [
    {
     "name": "stdout",
     "output_type": "stream",
     "text": [
      "[ 1 -1  1  1]\n"
     ]
    }
   ],
   "source": [
    "import numpy as np\n",
    "data=np.array([int(input('Please enter the data to be transmitted: ')) for i in range(4)])\n",
    "print(data)"
   ]
  },
  {
   "cell_type": "code",
   "execution_count": 8,
   "metadata": {},
   "outputs": [
    {
     "name": "stdout",
     "output_type": "stream",
     "text": [
      "a,b,c,d,e,f\n"
     ]
    }
   ],
   "source": [
    "req = []\n",
    "req1 = [('a', 'b', 'c'), ('d', 'e', 'f')]\n",
    "# Check if req or req1 is empty and assign an empty string to the corresponding part in the combined string\n",
    "combined_req = ((','.join(','.join(t) for t in req) + ';' if req else '') +\n",
    "                ','.join(','.join(t) for t in req1))\n",
    "\n",
    "print(combined_req)"
   ]
  },
  {
   "cell_type": "code",
   "execution_count": 8,
   "metadata": {},
   "outputs": [
    {
     "name": "stdout",
     "output_type": "stream",
     "text": [
      "['162', '162', '212', '212']\n",
      "['Physics II for Scientist and Engineers with Laboratory', 'Calculus II', 'Organic Chemistry II', 'Organic Chemistry II Laboratory']\n"
     ]
    }
   ],
   "source": [
    "str='212+212/162/162'\n",
    "str1='Organic Chemistry II+Organic Chemistry II Laboratory/Physics II for Scientist and Engineers with Laboratory/Calculus II'\n",
    "\n",
    "codes=str.split('/')\n",
    "titles=str1.split('/')\n",
    "code_with_plus = next((word for word in codes if \"+\" in word), None)\n",
    "if code_with_plus:\n",
    "    titles_with_plus = next((word for word in titles if \"+\" in word), None)\n",
    "    plus_course = code_with_plus.split('+')\n",
    "    plus_title = titles_with_plus.split('+')\n",
    "    codes.remove(code_with_plus)\n",
    "    titles.remove(titles_with_plus)\n",
    "    codes.extend(plus_course)\n",
    "    titles.extend(plus_title)\n",
    "print(codes)\n",
    "print(titles)"
   ]
  },
  {
   "cell_type": "code",
   "execution_count": 4,
   "metadata": {},
   "outputs": [
    {
     "name": "stdout",
     "output_type": "stream",
     "text": [
      "ANT 140\n",
      "ANT 150\n",
      "SMG 3xx/4xx\n"
     ]
    }
   ],
   "source": [
    "str4='SEDS 3xx/4xx|SMG 3xx/4xx|MATH 3xx/4xx|PHYS 3xx/4xx|CHEM 3xx/4xx|ECON 3xx/4xx'\n",
    "str=[\"ANT 140\",'ANT 150', 'WCS 150']\n",
    "# found= next((s for s in splitted if 'SEDS' in s), None)\n",
    "# print(found)\n",
    "# codes=found.split(' ')[1].split('/')\n",
    "# print(codes)\n",
    "if any(\"ANT\" in s for s in str):\n",
    "    for s in str:\n",
    "        if \"ANT\" in s:\n",
    "            print(s)\n",
    "\n",
    "\n",
    "print(next((s for s in splitted if \"SMG\" in s), None))\n"
   ]
  },
  {
   "cell_type": "code",
   "execution_count": 3,
   "metadata": {},
   "outputs": [
    {
     "name": "stdout",
     "output_type": "stream",
     "text": [
      "   patient_id  weight  height  age  diabetes\n",
      "0           1      70     170   30     False\n",
      "1           2      65     165   35      True\n",
      "2           3      80     180   40     False\n",
      "3           4      75     175   45      True\n",
      "4           5      72     172   50      True\n",
      "43.333333333333336 35.0\n"
     ]
    }
   ],
   "source": [
    "import pandas as pd\n",
    "\n",
    "# Sample data\n",
    "data = {\n",
    "    'patient_id': [1, 2, 3, 4, 5],\n",
    "    'weight': [70, 65, 80, 75, 72],\n",
    "    'height': [170, 165, 180, 175, 172],\n",
    "    'age': [30, 35, 40, 45, 50],\n",
    "    'diabetes': [False, True, False, True, True]\n",
    "}\n",
    "\n",
    "# Create DataFrame\n",
    "df = pd.DataFrame(data)\n",
    "\n",
    "# Display the DataFrame\n",
    "print(df)\n",
    "\n",
    "print(df[df.diabetes == True]['age'].mean(),df[df.diabetes == False]['age'].mean())\n",
    "\n",
    "print(df.g)"
   ]
  },
  {
   "cell_type": "code",
   "execution_count": 4,
   "metadata": {},
   "outputs": [
    {
     "name": "stdout",
     "output_type": "stream",
     "text": [
      "3.2\n"
     ]
    }
   ],
   "source": [
    "import numpy as np\n",
    "x=np.array([1,2,3,4,5])\n",
    "y=np.array([1,2,3,8,5])\n",
    "print(np.mean((x-y)**2))"
   ]
  }
 ],
 "metadata": {
  "kernelspec": {
   "display_name": "env311",
   "language": "python",
   "name": "python3"
  },
  "language_info": {
   "codemirror_mode": {
    "name": "ipython",
    "version": 3
   },
   "file_extension": ".py",
   "mimetype": "text/x-python",
   "name": "python",
   "nbconvert_exporter": "python",
   "pygments_lexer": "ipython3",
   "version": "3.11.7"
  }
 },
 "nbformat": 4,
 "nbformat_minor": 2
}
